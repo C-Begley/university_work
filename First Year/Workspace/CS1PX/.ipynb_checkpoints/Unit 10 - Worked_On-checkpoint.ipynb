{
 "cells": [
  {
   "cell_type": "code",
   "execution_count": 20,
   "metadata": {
    "collapsed": true
   },
   "outputs": [],
   "source": [
    "from __future__ import division   # make division work like Python 3.x"
   ]
  },
  {
   "cell_type": "code",
   "execution_count": 21,
   "metadata": {
    "collapsed": false
   },
   "outputs": [
    {
     "name": "stdout",
     "output_type": "stream",
     "text": [
      "[[1, 'a'], [2, 'b'], [3, 'c']]\n",
      "[]\n"
     ]
    }
   ],
   "source": [
    "#Task 1 - a)\n",
    "def join(list1, list2):\n",
    "    combined_list = []\n",
    "    for i in range(len(list1)):\n",
    "        combined_list.append([list1[i],list2[i]])\n",
    "        \n",
    "    return combined_list\n",
    "\n",
    "print join([1,2,3], ['a','b','c'])\n",
    "\n",
    "print join([], [])\n",
    "        \n",
    "    "
   ]
  },
  {
   "cell_type": "code",
   "execution_count": 22,
   "metadata": {
    "collapsed": false
   },
   "outputs": [
    {
     "name": "stdout",
     "output_type": "stream",
     "text": [
      "([1, 2, 3], ['a', 'b', 'c'])\n"
     ]
    }
   ],
   "source": [
    "#Task 1 - b)\n",
    "\n",
    "def split(combined_list):\n",
    "    list1 = []\n",
    "    list2 = []\n",
    "    \n",
    "    for i in range(len(combined_list)):\n",
    "        list1.append(combined_list[i][0])\n",
    "        list2.append(combined_list[i][1])\n",
    "        \n",
    "    return list1,list2\n",
    "\n",
    "print split([[1, 'a'], [2, 'b'], [3, 'c']])\n",
    "    \n"
   ]
  },
  {
   "cell_type": "code",
   "execution_count": 25,
   "metadata": {
    "collapsed": false
   },
   "outputs": [
    {
     "name": "stdout",
     "output_type": "stream",
     "text": [
      "(3, 10.0, 19, 10.526315789473685)\n"
     ]
    }
   ],
   "source": [
    "#Task 2 - a)\n",
    "\n",
    "def barchart(xOrigin, yOrigin, xSize, ySize, labels, data):\n",
    "    number = len(labels)\n",
    "    width = xSize/number\n",
    "    maximum = max(data)\n",
    "    yScale = ySize/maximum\n",
    "    \n",
    "    return number, width, maximum, yScale\n",
    "    \n",
    "print barchart(0, 0, 30, 200, ['Jan', 'Feb', 'Mar'], [7,19,3])    "
   ]
  },
  {
   "cell_type": "code",
   "execution_count": 34,
   "metadata": {
    "collapsed": false
   },
   "outputs": [],
   "source": [
    "#Task 3\n",
    "import Canvas\n",
    "\n",
    "colours = [\"black\", \"white\", \"blue\",\"green\", \"yellow\", \"cyan\", \"magenta\"]\n",
    "\n",
    "def draw_barchart(xOrigin, yOrigin, xSize, ySize, labels, data):\n",
    "    \n",
    "    number, width, maximum, yScale = barchart(xOrigin, yOrigin, xSize, ySize, labels, data)\n",
    "    \n",
    "    Canvas.create_text(100,100, text = 'Hello')\n",
    "        \n",
    "    \n",
    "    \n",
    "    \n",
    "    \n",
    "draw_barchart(0, 0, 30, 200, ['Jan', 'Feb', 'Mar'], [7,19,3])   "
   ]
  },
  {
   "cell_type": "code",
   "execution_count": null,
   "metadata": {
    "collapsed": true
   },
   "outputs": [],
   "source": []
  }
 ],
 "metadata": {
  "kernelspec": {
   "display_name": "Python 2",
   "language": "python",
   "name": "python2"
  },
  "language_info": {
   "codemirror_mode": {
    "name": "ipython",
    "version": 2
   },
   "file_extension": ".py",
   "mimetype": "text/x-python",
   "name": "python",
   "nbconvert_exporter": "python",
   "pygments_lexer": "ipython2",
   "version": "2.7.10"
  }
 },
 "nbformat": 4,
 "nbformat_minor": 1
}
