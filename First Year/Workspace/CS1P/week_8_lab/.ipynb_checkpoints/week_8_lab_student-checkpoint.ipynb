{
 "cells": [
  {
   "cell_type": "markdown",
   "metadata": {},
   "source": [
    "# Week 8 : Lab \n",
    " ## Data structures: Numerical arrays\n",
    " ##### CS1P - University of Glasgow - John Williamson - 2016"
   ]
  },
  {
   "cell_type": "code",
   "execution_count": 1,
   "metadata": {
    "collapsed": true
   },
   "outputs": [],
   "source": [
    "## RUN ME FIRST!\n",
    "from __future__ import division   # make division work like Python 3.x\n",
    "from image_audio import * \n",
    "import numpy as np\n",
    "%matplotlib inline"
   ]
  },
  {
   "cell_type": "markdown",
   "metadata": {},
   "source": []
  },
  {
   "cell_type": "markdown",
   "metadata": {},
   "source": [
    "\n",
    "## Lab exercise\n",
    "**You must make a reasonble attempt at this exercise to gain a tick for this work**.\n",
    "\n",
    "<font color=\"red\"> Remember to save your work frequently! </font>\n"
   ]
  },
  {
   "cell_type": "markdown",
   "metadata": {},
   "source": [
    "\n",
    "## Purpose of this lab\n",
    "This lab will familiarise you with using numerical arrays in Python using Numpy. This includes:\n",
    "* creating arrays\n",
    "* multi-dimensional slicing\n",
    "* joining arrays\n",
    "* array arithmetic and broadcasting\n",
    "* vectorised operations\n",
    "* images as arrays\n"
   ]
  },
  {
   "cell_type": "markdown",
   "metadata": {},
   "source": [
    "\n",
    "## Before the lab\n",
    "* Complete at least the A exercises.\n",
    "\n"
   ]
  },
  {
   "cell_type": "markdown",
   "metadata": {},
   "source": [
    "\n",
    "## During the lab session\n",
    "\n",
    "* Complete the B exercise. \n"
   ]
  },
  {
   "cell_type": "markdown",
   "metadata": {},
   "source": [
    "## A: Quick problems\n",
    "\n",
    "### A.1 Box matrix\n",
    "\n",
    "Write a function `box_matrix(rows, cols)` which creates a new matrix with the given number of rows and columns, such that all elements are 0, except for the rows and columns at the edges of the matrix, which should be 1, (a \"hollow\" or \"box\" matrix\").\n",
    "\n",
    "**DO NOT USE ANY FORM OF LOOP**\n",
    "\n",
    "So \n",
    "\n",
    "    box_matrix(2,2) =\n",
    "        array([[ 1.,  1.],\n",
    "               [ 1.,  1.]])\n",
    "        \n",
    "    box_matrix(4,4) =\n",
    "        array([[ 1.,  1.,  1.,  1.],\n",
    "               [ 1.,  0.,  0.,  1.],\n",
    "               [ 1.,  0.,  0.,  1.],\n",
    "               [ 1.,  1.,  1.,  1.]])\n",
    "        \n",
    "    box_matrix(3,6) =\n",
    "        array([[ 1.,  1.,  1.,  1.,  1.,  1.],\n",
    "               [ 1.,  0.,  0.,  0.,  0.,  1.],\n",
    "               [ 1.,  1.,  1.,  1.,  1.,  1.]])\n",
    "        "
   ]
  },
  {
   "cell_type": "code",
   "execution_count": 2,
   "metadata": {
    "collapsed": false
   },
   "outputs": [],
   "source": [
    "# Solution goes here"
   ]
  },
  {
   "cell_type": "markdown",
   "metadata": {},
   "source": [
    "### A.2 Unscramble\n",
    "There are some image loading and drawing functions provided for you:"
   ]
  },
  {
   "cell_type": "code",
   "execution_count": 3,
   "metadata": {
    "collapsed": false
   },
   "outputs": [],
   "source": [
    "# shows how image works\n",
    "castle = load_image_gray(\"imgs/castle.png\")\n",
    "print castle.shape, castle.dtype\n",
    "\n",
    "# show_image should get a 2D array (or a 3D array for colour images)\n",
    "show_image(castle)"
   ]
  },
  {
   "cell_type": "markdown",
   "metadata": {},
   "source": [
    "You have decoded a space transmission from a [slow-scan television] (https://en.wikipedia.org/wiki/Slow-scan_television) radio broadcast. All you have is a series of measurements over time, one pixel after the other -- a **1D array. ** You need to convert this to a 2D array to show it as an image.\n",
    "\n",
    "You know the following:\n",
    "\n",
    "* The image should be 260 lines high. \n",
    "\n",
    "* The pixel values recorded from the receiver range from 0-800. You need to scale them to the 0-1 range to be able to show them.\n",
    "\n",
    "Using these two bits of information, recover the original image and show it with `show_image()`.\n",
    "\n",
    "`sstv` contains the radio broadcast as a 1D array."
   ]
  },
  {
   "cell_type": "code",
   "execution_count": 4,
   "metadata": {
    "collapsed": false
   },
   "outputs": [],
   "source": [
    "## The data from the slow scan television\n",
    "sstv = np.load(\"sstv.npz\")['signal']\n",
    "print sstv.shape, sstv.dtype"
   ]
  },
  {
   "cell_type": "code",
   "execution_count": 5,
   "metadata": {
    "collapsed": false
   },
   "outputs": [],
   "source": [
    "# Solution goes here"
   ]
  },
  {
   "cell_type": "markdown",
   "metadata": {},
   "source": [
    "### A.3 Alpha mask\n",
    "An grayscale image consists of a 2D array (matrix) of brightness values.\n",
    "Combining two images together can be done by adding them together and dividing by 2.0, as below."
   ]
  },
  {
   "cell_type": "code",
   "execution_count": 6,
   "metadata": {
    "collapsed": false
   },
   "outputs": [],
   "source": [
    "parrots = load_image_gray(\"imgs/parrots.png\")\n",
    "plane = load_image_gray(\"imgs/plane.png\")\n",
    "show_image(parrots)\n",
    "show_image(plane)\n",
    "show_image((plane+parrots)/2.0)"
   ]
  },
  {
   "cell_type": "markdown",
   "metadata": {},
   "source": [
    "But to *composite* on image on top of another (e.g. to place an actor filmed in front of a green screen into a CGI background), we need to *selectively* mix to gether images. This is called alpha masking (this why the transparency option in some programs is called *alpha*).\n",
    "\n",
    "There is a simple process: you take two images $X$ and $Y$, and a special third image $A$ called the **alpha mask** or sometimes the **matte**. $A$ is a grayscale image; where $A$ is white, $X$ shows through. Where $A$ is black, $Y$ shows through. Where $A=0.5$, $0.5X+0.5Y$ is mixed together.\n",
    "\n",
    "The general formula for this masking is very simple $$Z = AX + (1-A)Y,$$ where $Z$ is the output image.\n",
    "\n",
    "* An alpha mask is contained in the file `imgs/parrots_alpha.png`\n",
    "* Load it (use `load_image_gray()`) and show it.\n",
    "* Compute the alpha composited image (parrots on background) by implementing the equation above using Numpy arrays.  This is very simple and should not involve a loop!\n",
    "* Show the composited image.\n",
    "\n",
    "### Optional extension\n",
    "Make this work in colour (use `load_image_colour()` to load a colour image; `show_image()` will still work to show it)\n"
   ]
  },
  {
   "cell_type": "code",
   "execution_count": 7,
   "metadata": {
    "collapsed": false
   },
   "outputs": [],
   "source": [
    "# Solution goes here"
   ]
  },
  {
   "cell_type": "markdown",
   "metadata": {},
   "source": [
    "## A.4 Data operations\n",
    "\n",
    "The file `environmental.csv` contains air quality data for New York City on different days. There are 111 rows and 5 columns. The data is in the format:\n",
    "\n",
    "    index,ozone,radiation,temperature,wind\n",
    "    \n",
    "The cell below loads this data.\n",
    "\n",
    "* Print out the shape and dtype of the dataset.\n",
    "* Plot the ozone level against the index. (remember that `plt.plot(x,y)` will plot an array of y-values against an array of x-values).\n",
    "* Plot the ratio of the temperature to the wind against the index. *use `plt.figure()` to generate a new figure to plot in*\n",
    "* Print the difference in temperature between the days with the highest and lowest ozone.\n",
    "* Print the median wind speed.\n",
    "* Use `plt.plot(x,y,'.')` to plot a disconnected graph of ozone (y) against wind speed (x)."
   ]
  },
  {
   "cell_type": "code",
   "execution_count": 10,
   "metadata": {
    "collapsed": false
   },
   "outputs": [],
   "source": [
    "atm_nyc = np.loadtxt(\"environmental.csv\", delimiter=\",\")"
   ]
  },
  {
   "cell_type": "code",
   "execution_count": 11,
   "metadata": {
    "collapsed": false
   },
   "outputs": [],
   "source": [
    "# Solution goes here"
   ]
  },
  {
   "cell_type": "markdown",
   "metadata": {},
   "source": [
    "What effect does wind speed have on ozone levels, in general?"
   ]
  },
  {
   "cell_type": "markdown",
   "metadata": {},
   "source": [
    "## A.5 Sunspots\n",
    "Astronomers have counted the number of visible **sunpots** on the sun every day since 1749. The code below loads this data (averaged over one month intervals) as a Numpy array. It has three columns:\n",
    "\n",
    "    index, year, mean sunspots\n",
    "\n",
    "`year` is in the date in fractional years (e.g. 1800.5 means half way through 1800).\n",
    "\n",
    "The index just increments from 1 upwards, and isn't interesting to us."
   ]
  },
  {
   "cell_type": "code",
   "execution_count": 14,
   "metadata": {
    "collapsed": false
   },
   "outputs": [],
   "source": [
    "# load the data\n",
    "sunspots = np.loadtxt(\"sunspots.csv\", delimiter=\",\")    \n",
    "print sunspots.shape, sunspots.dtype"
   ]
  },
  {
   "cell_type": "markdown",
   "metadata": {},
   "source": [
    "We can plot the sunspot data directly with `plot`"
   ]
  },
  {
   "cell_type": "code",
   "execution_count": 15,
   "metadata": {
    "collapsed": false
   },
   "outputs": [],
   "source": [
    "# plot second column (time in years) against third (number of sunspots)\n",
    "plt.plot(sunspots[:,1], sunspots[:,2])"
   ]
  },
  {
   "cell_type": "markdown",
   "metadata": {},
   "source": [
    "**Without using any loops**, answer the following questions:\n",
    "1. What is the most number of sunspots seen?\n",
    "1. What is the least number of sunspots seen?\n",
    "1. Which year had the most sunspots?\n",
    "1. What is the average (mean) number of sunspots?\n",
    "1. **Using reshape()**, what is the average number of sunspots for March? *Hint: there are 12 months in the year!*\n",
    "1. **Again using reshape()**, what is the ratio of the *average* standard deviation of the number of sunspots *within one year* to the standard deviation of all the sunspot data? In other words, how much variability is there typically within one year compared to the variability across all years?\n"
   ]
  },
  {
   "cell_type": "code",
   "execution_count": 16,
   "metadata": {
    "collapsed": false
   },
   "outputs": [],
   "source": [
    "# Solution goes here"
   ]
  },
  {
   "cell_type": "markdown",
   "metadata": {},
   "source": [
    "# B: A computer art exhibition\n",
    "You have been hired to demonstrate the artistic and expressive aspects of computer science. You have to build an installation to be displayed in a museum to show off what can be done.\n",
    "\n",
    "You have three exhibits to produce:\n",
    "* Interactive display: the Game of Life\n",
    "* Printwork: quilted gradients\n",
    "* Printwork: firework particle explosion"
   ]
  },
  {
   "cell_type": "markdown",
   "metadata": {},
   "source": [
    "## B.1 Game of Life\n",
    "The Game of Life is a very famous **cellular automaton**. It is not a game in the traditional sense of the word, but a kind of simulation. It simulates the birth and death of a very simplified model of a \"cell\" according to very simple rules. It was invented by the mathematician John H. Conway in 1969\n",
    "\n",
    "<img src=\"imgs/jhc.jpg\">\n",
    "*John H. Conway [Image Credit \"Thane Plambeck\" - \"http://www.flickr.com/photos/thane/20366806/\", CC BY 2.0, https://commons.wikimedia.org/w/index.php?curid=13076802]*\n",
    "\n",
    "The Game of Life assumes that these \"cells\" are represented as a big 2D array (like a giant chessboard), where each element of the array can be 1 (on/alive) or 0 (off/dead). Rules are defined which, given a array of cells in one timestep, determine how the cells should evolve in the next timestep. \n",
    "\n",
    "The rules are very simple:\n",
    "\n",
    "* For each cell in the array:\n",
    "    * Check all eight neighbours in a 3x3 grid around the cell\n",
    "    * If cell was already on, and there are exactly 2 neighbours, the cell stays on.\n",
    "    * If there are exactly three neighbours, the cell becomes on, regardless of whether it was on or off before.\n",
    "    * Otherwise, the cell becomes off.\n",
    "\n",
    "The eight neighbours of a cell look like this:\n",
    "<img src=\"imgs/moore.png\" width=\"200px\">"
   ]
  },
  {
   "cell_type": "markdown",
   "metadata": {},
   "source": [
    "### The rule\n",
    "#### Still Lifes\n",
    "The Game of Life rule has very interesting properties. Some arrangements of cells (\"patterns\") are **stable** and never change, like 4 on cells in a 2x2 grid, surrounded by all off cells.\n",
    "\n",
    "<img src=\"imgs/block.png\">\n",
    "\n",
    "These are called **still lifes**.\n",
    "\n",
    "#### Oscillators\n",
    "Other patterns continuously oscillate between two states, like 3 cells in a line:\n",
    "\n",
    "<img src=\"imgs/blinker.gif\">\n",
    "\n",
    "Patterns like these are called **oscillators**\n",
    "\n",
    "#### Spaceships\n",
    "Remarkably, there are discrete equivalents of *waves* in this simulation; patterns which appear to move across empty space.\n",
    "\n",
    "<img src=\"imgs/glider.gif\">\n",
    "\n",
    "These are called **spaceships** and are much, much rarer than any of the other patterns we have seen so far.\n",
    "\n",
    "------\n",
    "\n",
    "Despite the extremely simple rules, patterns in the Game of Life have an enormous diversity of behavior, with strange and intricate constructions like **puffer trains**, **rakes**, **breeders**, **Herschel tracks** and **guns**. It has been shown to be possible to create patterns which copy themselves (reproduce), although these are extremely complex.\n",
    "\n",
    "It is even possible to implement a complete working computer as a pattern in the Game of Life -- a computer fabricated from cells which can compute anything a \"real world\" computer can (but extraordinarly slowly)."
   ]
  },
  {
   "cell_type": "markdown",
   "metadata": {},
   "source": [
    "### Task\n",
    "The Game of Life is very easy to represent as a big numerical array, each element of the array corresponding to a cell. Your task is to implement the Game of Life using arrays.\n",
    "#### next_generation()\n",
    "You need to write a function `next_generation(cells)`, which given an array `cells` consisting of 0s and 1s, returns a new array of 0s and 1s obeying the Game of Life rules. \n",
    "\n",
    "**You will need to use `for` loops to do this.**\n",
    "\n",
    "You can use `show_image(cells)` to show the output array. Test your function on the  block and blinker examples before going further.\n",
    "\n",
    "------\n",
    "#### simulate()\n",
    "Then, write a function `simulate(cells, n)` which will apply `next_generation` `n` times to the `cells`, and show an animation of the process by redrawing the image on each generation.\n",
    "\n",
    "\n",
    "-----\n",
    "### Hints\n",
    "#### Animating\n",
    "You can use `update_image(cells)` to update a drawing without creating a completely new image for each update; this lets you show an *animation* as `simulate()` runs. Note that you **must** call `show_image()` the first time you draw the image (to create a new blank figure canvas), and call `update_image()` to update the figure.\n",
    "\n",
    "\n",
    "#### Correct simulation\n",
    "**Note**: to get the simulation correct, you need create a new array and copy the values in. If you try and modify the cells in place, you will get completely incorrect behaviour (unless you are very clever with the array ops!).\n",
    "\n",
    "#### Shape\n",
    "Keep the shape of `cells` the same on each application of `next_generation()`. Note that you will have to do something at the edges of the array, where there aren't a full set of neighbour cells (e.g. what is top left of the the top left cell?). \n",
    "\n",
    "#### Wrapping at the edges\n",
    "A common solution is just to assume that the array \"wraps around\" at the edges (e.g. that the leftmost element is next to the rightmost element). This is very easy to implement using the % operator, which allows you to force a value to lie within a certain range; see the example below to see why:"
   ]
  },
  {
   "cell_type": "code",
   "execution_count": 20,
   "metadata": {
    "collapsed": false
   },
   "outputs": [],
   "source": [
    "# forwards:\n",
    "for i in range(12):\n",
    "    print i, i % 5, \" \",\n",
    "print\n",
    "\n",
    "# backwards\n",
    "for i in range(0,-12,-1):\n",
    "    print i, i % 5, \" \",\n"
   ]
  },
  {
   "cell_type": "markdown",
   "metadata": {},
   "source": [
    "### Test patterns\n",
    "There are some test patterns provided for you. `load_pattern(name, padding)` returns a 2D array with the given pattern, with `padding` 0 (off) cells around it. You can check that this is just a standard Numpy array. \n",
    "The padding argument allows you to get an array with enough room for a pattern to \"grow\".\n",
    "\n",
    "These patterns include:\n",
    "* `block` the 2x2 pattern above, which should not change\n",
    "* `blinker` the 3x1 pattern above, which should switch between vertical and horizontal\n",
    "* `glider` the spaceship above, which should move up and to the right.\n",
    "\n",
    "There are many more."
   ]
  },
  {
   "cell_type": "code",
   "execution_count": 22,
   "metadata": {
    "collapsed": false
   },
   "outputs": [],
   "source": [
    "import lifeparsers\n",
    "\n",
    "# load the block\n",
    "block = lifeparsers.load_life(\"life/block.l\")\n",
    "show_image(block)\n",
    "\n",
    "# load the blinker\n",
    "blinker = lifeparsers.load_life(\"life/blinker.l\")\n",
    "show_image(blinker)\n",
    "\n",
    "# load the glider (with some extra padding)\n",
    "glider = lifeparsers.load_life(\"life/glider.l\", padding=4)\n",
    "show_image(glider)\n"
   ]
  },
  {
   "cell_type": "code",
   "execution_count": 23,
   "metadata": {
    "collapsed": false
   },
   "outputs": [],
   "source": [
    "# Solution goes here"
   ]
  },
  {
   "cell_type": "markdown",
   "metadata": {},
   "source": [
    "##### Question: what does the pattern \"gun.l\" do?\n",
    "If you've implemented `simulate()` correctly, the following will work:"
   ]
  },
  {
   "cell_type": "code",
   "execution_count": 24,
   "metadata": {
    "collapsed": false
   },
   "outputs": [],
   "source": [
    "gun = lifeparsers.load_life(\"life/gun.l\", padding=20)\n",
    "simulate(gun, 60)"
   ]
  },
  {
   "cell_type": "code",
   "execution_count": 25,
   "metadata": {
    "collapsed": false
   },
   "outputs": [],
   "source": [
    "mystery = np.rot90(lifeparsers.load_life(\"life/schick.l\", padding=30))\n",
    "simulate(mystery, 60)"
   ]
  },
  {
   "cell_type": "markdown",
   "metadata": {},
   "source": [
    "## B.2 Gradient quilts\n",
    "A **gradient** is an image where the colour varies smoothly from one side to the other.\n",
    "<img src=\"imgs/gradient.png\">\n",
    "\n",
    "Your task is to create a colourful quilt of small gradient images which have been joined together.\n",
    "\n",
    "## linspace and outer\n",
    "We will use two new array functions to create a gradient. \n",
    "* `linspace` (linearly spaced) creates a 1D array of points much like `arange` does. But instead of increasing by one unit each time, we can specify a range and the number of steps to split that range up into.\n",
    "\n",
    "`np.linspace(a,b,n_steps)` means: create `n_steps` elements, starting at `a` and stopping at `b`.  (note that linspace is **inclusive** of the argument `b`, unlike `arange`).\n",
    "\n",
    "Run the examples below to get a feel for this. \n"
   ]
  },
  {
   "cell_type": "code",
   "execution_count": 26,
   "metadata": {
    "collapsed": false
   },
   "outputs": [],
   "source": [
    "print np.linspace(0,1,5)  # 0->1 in 5 steps"
   ]
  },
  {
   "cell_type": "code",
   "execution_count": 27,
   "metadata": {
    "collapsed": false
   },
   "outputs": [],
   "source": [
    "print np.linspace(0,1,10)  # 0->1 in 10 steps"
   ]
  },
  {
   "cell_type": "code",
   "execution_count": 28,
   "metadata": {
    "collapsed": false
   },
   "outputs": [],
   "source": [
    "print np.linspace(0,100,6)  # 0->100 in 6 steps"
   ]
  },
  {
   "cell_type": "markdown",
   "metadata": {},
   "source": [
    "`np.outer(row_array,col_array)` computes what mathematicians call the \"outer product\"; it takes two 1D arrays and creates a new 2D array where each element is formed of the product of the respective element of row_array and col_array. \n",
    "\n",
    "$$A = \\text{outer}(\\textbf{r},\\textbf{c}),\\ A_{ij} = r_i \\times c_j$$\n",
    "\n",
    "This sounds complicated, but is actually very simple to use. Let's see how we can use it to create gradients:"
   ]
  },
  {
   "cell_type": "code",
   "execution_count": 31,
   "metadata": {
    "collapsed": false
   },
   "outputs": [],
   "source": [
    "# from 0 -> 1, 200 steps\n",
    "x = np.linspace(0,1,200)\n",
    "# just 200 1s in a row\n",
    "y = np.ones((200,))\n",
    "# now we create a 200x200 matrix, which is the gradient we want to use\n",
    "show_image(np.outer(x,y))"
   ]
  },
  {
   "cell_type": "code",
   "execution_count": 32,
   "metadata": {
    "collapsed": false
   },
   "outputs": [],
   "source": [
    "# rotate it, and make it darker\n",
    "show_image(np.outer(y*0.5,x))"
   ]
  },
  {
   "cell_type": "code",
   "execution_count": 33,
   "metadata": {
    "collapsed": false
   },
   "outputs": [],
   "source": [
    "# curved gradient\n",
    "show_image(np.outer(x,x))"
   ]
  },
  {
   "cell_type": "code",
   "execution_count": 34,
   "metadata": {
    "collapsed": false,
    "scrolled": true
   },
   "outputs": [],
   "source": [
    "# how does this work?\n",
    "show_image(np.outer(x,(4 * x * x[::-1])))"
   ]
  },
  {
   "cell_type": "markdown",
   "metadata": {},
   "source": [
    "## Colour\n",
    "Just like in the alpha blending example, we can use this gradient as a **mask** to blend together two images. If the images are just solid colours, then we will get a colour gradient.\n",
    "\n",
    "A solid colour image can be generated like this (among other ways). Try playing with this to see how it works. Note that the output is a 50x50x3 matrix: 50x50 pixels, each with an R G and B value. R G and B need to be between 0.0 and 1.0."
   ]
  },
  {
   "cell_type": "code",
   "execution_count": 36,
   "metadata": {
    "collapsed": false
   },
   "outputs": [],
   "source": [
    "# 50x50x3 colour image\n",
    "image = np.ones((50,50,3))\n",
    "# set the RGB components for the whole image\n",
    "image[:,:,0] = 0.12  # not much red (12%)\n",
    "image[:,:,1] = 0.75  # plenty of green (75%)\n",
    "image[:,:,2] = 0.3  # some blue (30%)\n",
    "show_image(image)"
   ]
  },
  {
   "cell_type": "code",
   "execution_count": 38,
   "metadata": {
    "collapsed": false
   },
   "outputs": [],
   "source": [
    "# another way of doing exactly the same thing\n",
    "#                         R     G     B       \n",
    "image = np.tile(np.array([0.12, 0.75, 0.3]), (50,50,1))\n",
    "show_image(image)"
   ]
  },
  {
   "cell_type": "markdown",
   "metadata": {},
   "source": [
    "## Task\n",
    "Write a function `gradient_block()`, which generates a pair of **random** solid colour images, each with shape (50,50,3). Generate a gradient like the ones above, and use it to blend the two colours together. Return the resulting array.\n",
    "\n",
    "Note that there is a handy function to generate a bunch of random numbers in one go, which you might find useful:"
   ]
  },
  {
   "cell_type": "code",
   "execution_count": 39,
   "metadata": {
    "collapsed": false,
    "scrolled": true
   },
   "outputs": [],
   "source": [
    "# generate a 3 element array, with random numbers between -1 and 1\n",
    "print np.random.uniform(-1,1,(3,))"
   ]
  },
  {
   "cell_type": "markdown",
   "metadata": {},
   "source": [
    "`gradient_block()` should return an array that can be shown with `show_image()` that looks something like this:\n",
    "    \n",
    "    show_image(gradient_block())\n",
    "    \n",
    "<img src=\"imgs/gradient.png\">    "
   ]
  },
  {
   "cell_type": "code",
   "execution_count": 41,
   "metadata": {
    "collapsed": false
   },
   "outputs": [],
   "source": [
    "# Solution goes here"
   ]
  },
  {
   "cell_type": "markdown",
   "metadata": {},
   "source": [
    "## Task 2\n",
    "Write a function `quilt(rows, cols)` that creates a number of these gradient blocks -- an array of them of size rows x cols, and joins them all together into a single array and returns it.\n",
    "\n",
    "Make `quilt()` apply a random one of:\n",
    "* rot90\n",
    "* fliplr\n",
    "* flipud\n",
    "\n",
    "to each quilt element before joining it together.\n",
    "\n",
    "The output for `quilt(3,4)` should look like this (obviously, colors may vary!)\n",
    "<img src=\"imgs/quilt.png\">\n",
    "\n",
    "**Feel free to be creative and find nicer ways of generating quilts; you can generate triangular or circular gradients, choose better colours, possibly even have some irregularity in the size of quilt blocks (tricky!)**"
   ]
  },
  {
   "cell_type": "code",
   "execution_count": 47,
   "metadata": {
    "collapsed": false
   },
   "outputs": [],
   "source": [
    "# Solution goes here"
   ]
  },
  {
   "cell_type": "markdown",
   "metadata": {},
   "source": [
    "## B.3 Firework particle system"
   ]
  },
  {
   "cell_type": "markdown",
   "metadata": {},
   "source": [
    "We missed Guy Fawkes day, but we can simulate fireworks using a simple **particle system**. We will use very (*very*) basic physics to simulate how particles (in this case, little bits of fireworks) move around.\n",
    "\n",
    "The output from your code for this part should look like this:\n",
    "<img src=\"imgs/fireworks.png\">\n",
    "\n",
    "We'll simulate this using a set of simple equations that apply to a whole set of particles at the same time (i.e. vectorized operations).\n",
    "\n",
    "## Particle system"
   ]
  },
  {
   "cell_type": "markdown",
   "metadata": {},
   "source": [
    "Assume we can model a single firework explosion at a given time as a set of N points in 2D, i.e. an array of N rows of 2 columns (x and y).  \n",
    "\n",
    "To simulate a firework exploding, we need to simulate the motion of these points \"bursting out\" from a central position and falling down.\n",
    "\n",
    "Assume we also have some information about the initial velocity (dx and dy) of each particle (i.e. which way it went at the moment of detonation). \n",
    "\n",
    "We can predict where the particle is at time $t$ from where it was in the last time step $t-1$ using the equations:\n",
    "$$\\textbf{x}_{t} = \\textbf{x}_{t_1} + \\textbf{dx}_{t_1}$$\n",
    "$$\\textbf{dx}_{t} = \\textbf{dx}_{t-1} * d$$\n",
    "$$\\textbf{dx}_{t}.y = \\textbf{dx}_{t-1}.y - g$$\n",
    "\n",
    "$d$ is a damping factor (from air resistance). $g$ is the gravitational force.\n",
    "\n",
    "Note that x and dx are 2D vectors (i.e. they have $x$ and $y$ components), not just plain numbers!\n",
    "\n",
    "## Random  numbers\n",
    "We can use random numbers to give initial values for the velocities (after all, the particles all spread out in random ways when a firework goes off). The function `np.random.normal(mean, std, shape)` generates *normally distributed* values, centered on `mean` with a \"spread\" given by `std`, in an array of the given `shape`."
   ]
  },
  {
   "cell_type": "code",
   "execution_count": null,
   "metadata": {
    "collapsed": true
   },
   "outputs": [],
   "source": [
    "# 4 element vector, centered on 0, spread of 0.1\n",
    "print np.random.normal(loc=0, scale=0.1, size=(4,))"
   ]
  },
  {
   "cell_type": "code",
   "execution_count": 376,
   "metadata": {
    "collapsed": false
   },
   "outputs": [],
   "source": [
    "# 8 element vector, centered on 0, spread of 10\n",
    "print np.random.normal(loc=0, scale=10, size=(8,))"
   ]
  },
  {
   "cell_type": "code",
   "execution_count": 58,
   "metadata": {
    "collapsed": false
   },
   "outputs": [],
   "source": [
    "# 6x6 matrix, centered on 0, spread of 2\n",
    "print np.random.normal(loc=0, scale=2, size=(6,6))"
   ]
  },
  {
   "cell_type": "markdown",
   "metadata": {},
   "source": [
    "## Task 1\n",
    "Implement the equations of motion for a single firework.\n",
    "\n",
    "* You should start with all points at the same *position* (e.g. all at (0,0)), but with random velocities, using `np.random.normal()`, as above. \n",
    "* Start with 50 particles in the firework. Remember, the positions of every particle should be in one single array!\n",
    "* To implement the gravity, remember you can modify a slice of an array (e.g. a column slice).\n",
    "* Run the equations for 30 steps, updating the position and velocity.\n",
    "* Use `plot_array(pts)` defined below to plot the positions *on each timestep*\n",
    "* To start, use `g=0.01`, `d=0.9`. Adjust these as you feel best.\n",
    "* At the end, you should get a single, monochrome firework like this:\n",
    "<img src=\"imgs/mono_firework.png\">"
   ]
  },
  {
   "cell_type": "code",
   "execution_count": 121,
   "metadata": {
    "collapsed": false
   },
   "outputs": [],
   "source": [
    "def plot_array(pts, c=None):\n",
    "    \"\"\"Plot pts (must be a Nx2 array) as points. \n",
    "    If c is specified, it must be an Nx4 array of RGBA values, giving\n",
    "    the colour for each point.\"\"\"\n",
    "    plt.gca().set_axis_bgcolor('black')\n",
    "    if c is None:\n",
    "        plt.scatter(pts[:,0], pts[:,1], c='r', edgecolor=\"none\")\n",
    "    else:\n",
    "        plt.scatter(pts[:,0], pts[:,1], c=np.clip(c,0,1), edgecolor=\"none\")\n",
    "    plt.xlim(-10,10)\n",
    "    plt.ylim(-10,10)\n",
    "    display.display(plt.gcf())\n",
    "    display.clear_output(wait=True)\n",
    "    time.sleep(0.05)\n",
    "\n",
    "# Example: plot 20 random 2D points\n",
    "plot_array(np.random.normal(0,1,(20,2)))        "
   ]
  },
  {
   "cell_type": "code",
   "execution_count": 122,
   "metadata": {
    "collapsed": false
   },
   "outputs": [],
   "source": [
    "# Solution goes here"
   ]
  },
  {
   "cell_type": "markdown",
   "metadata": {},
   "source": [
    "### Task 2\n",
    "* Plot several fireworks, each with a different random starting position (*hint*: how can broadcasting help you here?)\n",
    "* Start with 5 fireworks.\n",
    "* plot_array() can take a second argument, `color`:\n",
    "e.g. `plot_array(x, color)`\n",
    "* The colours given to plot_array must be an Nx4 array (red, green, blue, alpha). The alpha should initially be set to 1, so that the fireworks don't start out transparent. RGB should be values between 0 and 1.\n",
    "* Choose a random colour for each firework. Note that you need to give a colour for each *particle* in the firework. (*hint*: how can `tile()` help you?)\n",
    "* Make the colours fade as the simulation runs (i.e. they should get darker or more transparent in future time steps). Think about how the damping changed the velocity."
   ]
  },
  {
   "cell_type": "code",
   "execution_count": 123,
   "metadata": {
    "collapsed": false
   },
   "outputs": [],
   "source": [
    "# Solution goes here"
   ]
  },
  {
   "cell_type": "markdown",
   "metadata": {},
   "source": [
    "# C: Extended problems\n",
    "These *extended* problems are optional for students who are keen to learn more. If you've finished the whole lab and want to explore these ideas in more depth, these problems and resources are intended to help you do that. <font color=\"red\"> You do not need to attempt any of this section to receive a tick! </font>\n",
    "\n",
    "## C.1 Blurring images\n",
    "A blurring effect can be obtained by summing together multiple shifted copies of an array representation of a image, scaled down by some factor. This is a process called \"convolution\". In this task, you will implement a very simple blur function (a \"box\" blur)."
   ]
  },
  {
   "cell_type": "code",
   "execution_count": 124,
   "metadata": {
    "collapsed": false
   },
   "outputs": [],
   "source": [
    "import skimage.transform\n",
    "# just loads the orchid, and makes it a bit lower res, so \n",
    "# we can easily see any blurring\n",
    "orchid = load_image_gray(\"imgs/orchid.png\")\n",
    "orchid_low_res = skimage.transform.rescale(orchid, 0.25)\n",
    "show_image(orchid_low_res)"
   ]
  },
  {
   "cell_type": "code",
   "execution_count": 125,
   "metadata": {
    "collapsed": false
   },
   "outputs": [],
   "source": [
    "# think carefully about what this line does!\n",
    "blurred = 0.5*orchid_low_res[1:, :]+0.5*(orchid_low_res[:-1, :])\n",
    "show_image(blurred)"
   ]
  },
  {
   "cell_type": "code",
   "execution_count": 126,
   "metadata": {
    "collapsed": false
   },
   "outputs": [],
   "source": [
    "blurred = 0.5*blurred[1:, :]+0.5*(blurred[:-1, :])\n",
    "show_image(blurred)"
   ]
  },
  {
   "cell_type": "markdown",
   "metadata": {},
   "source": [
    "## Task\n",
    "The task in this exercise is to write a function that can blur images using this approach. The code above just blurs in the y-direction (across rows). Extend it to blur in both x and y, and allow the number of \"passes\" (blur operations) to be specified for the x and y directions. \n",
    "\n",
    "Your function should look like:\n",
    "    \n",
    "    def blur(img, x_passes, y_passes):\n",
    "\n",
    "-----\n",
    "\n",
    "If you load the `orchid.png` image in colour with `load_image_colour` and blur it with\n",
    "\n",
    "    blur(orchid, x_passes=25, y_passes=25)\n",
    "    \n",
    "you should get an image like this:\n",
    "<img src=\"imgs/blur_orchid.png\">"
   ]
  },
  {
   "cell_type": "code",
   "execution_count": 127,
   "metadata": {
    "collapsed": false
   },
   "outputs": [],
   "source": [
    "# Solution goes here"
   ]
  },
  {
   "cell_type": "markdown",
   "metadata": {},
   "source": [
    "## C.2 Drum sounds\n",
    "1D arrays can be used to represent sounds. In this task, you will implement a digital drum machine using only simple mathematical functions.\n",
    "<img src=\"imgs/tr808.jpg\">\n",
    "*[Image credit: By Eriq at Dutch Wikipedia, CC BY-SA 3.0, https://commons.wikimedia.org/w/index.php?curid=38020306]*"
   ]
  },
  {
   "cell_type": "markdown",
   "metadata": {},
   "source": [
    "A pure tone is a *sine wave*. A sine wave can be computed by taking the `sin()` of an increasing number (e.g. generated by linspace)"
   ]
  },
  {
   "cell_type": "code",
   "execution_count": 128,
   "metadata": {
    "collapsed": false
   },
   "outputs": [],
   "source": [
    "# Warning: loud bass!\n",
    "# 10000 = 10000 samples = ~1/4 second of sound (44100 samples/second)\n",
    "tone = np.sin(np.linspace(0,100,10000))\n",
    "play_sound(tone)"
   ]
  },
  {
   "cell_type": "markdown",
   "metadata": {},
   "source": [
    "Different volume can be achieved by scaling the tone, and different pitches by scaling the value *inside* the np.sin()"
   ]
  },
  {
   "cell_type": "code",
   "execution_count": 130,
   "metadata": {
    "collapsed": false
   },
   "outputs": [],
   "source": [
    "# multiply *outside* the sine (try changing the 0.2)\n",
    "quiet_tone = np.sin(np.linspace(0,100,10000))*0.2\n",
    "play_sound(quiet_tone)"
   ]
  },
  {
   "cell_type": "code",
   "execution_count": 131,
   "metadata": {
    "collapsed": false
   },
   "outputs": [],
   "source": [
    "# multiply *inside* the sine (try changing the 4)\n",
    "high_tone = np.sin(np.linspace(0,100,10000)*4)\n",
    "play_sound(high_tone) # loud!"
   ]
  },
  {
   "cell_type": "markdown",
   "metadata": {},
   "source": [
    "## Task\n",
    "Work out how to make a kick drum sound. My kick sounds like this:\n",
    "\n",
    "<audio controls=\"controls\">  <source src=\"imgs/kick.wav\"  type=\"audio/wav\">  </audio>\n",
    "\n",
    "A kick drum decreases in pitch and volume over time. *An exponentially decaying function is particularly useful here.*"
   ]
  },
  {
   "cell_type": "code",
   "execution_count": 109,
   "metadata": {
    "collapsed": false
   },
   "outputs": [],
   "source": [
    "# an exponentially decaying function\n",
    "# this can be used to vary volume over time\n",
    "a = np.linspace(0,10,200)\n",
    "plt.plot(a, np.exp(-a))"
   ]
  },
  {
   "cell_type": "markdown",
   "metadata": {},
   "source": [
    "You can distort sounds using `np.tanh()`, as shown below. Use this to improve your drum sound."
   ]
  },
  {
   "cell_type": "code",
   "execution_count": 110,
   "metadata": {
    "collapsed": false
   },
   "outputs": [],
   "source": [
    "tone = np.sin(np.linspace(0,100,10000))\n",
    "# note we scale up the array *inside* the tanh() and then scale it down again\n",
    "play_sound(np.tanh(tone*10)*0.5)"
   ]
  },
  {
   "cell_type": "code",
   "execution_count": 116,
   "metadata": {
    "collapsed": false,
    "scrolled": true
   },
   "outputs": [],
   "source": [
    "# Solution goes here"
   ]
  },
  {
   "cell_type": "markdown",
   "metadata": {},
   "source": [
    "## Task 2\n",
    "Now observe that random numbers sound like noise:"
   ]
  },
  {
   "cell_type": "code",
   "execution_count": 117,
   "metadata": {
    "collapsed": false
   },
   "outputs": [],
   "source": [
    "noise = np.random.uniform(-1,1,10000)*0.2\n",
    "play_sound(noise)"
   ]
  },
  {
   "cell_type": "markdown",
   "metadata": {},
   "source": [
    "Implement a hihat drum sound. Create a long and a short hihat.\n",
    "\n",
    "<audio controls=\"controls\">  <source src=\"imgs/hat.wav\" type=\"audio/wav\">  </audio>\n",
    "\n",
    "<audio controls=\"controls\">  <source src=\"imgs/long_hat.wav\" type=\"audio/wav\">  </audio>\n"
   ]
  },
  {
   "cell_type": "code",
   "execution_count": 118,
   "metadata": {
    "collapsed": false
   },
   "outputs": [],
   "source": [
    "# Solution goes here"
   ]
  },
  {
   "cell_type": "code",
   "execution_count": 119,
   "metadata": {
    "collapsed": false
   },
   "outputs": [],
   "source": [
    "# Solution goes here"
   ]
  },
  {
   "cell_type": "markdown",
   "metadata": {},
   "source": [
    "Finally, assemble your sounds into a beat by concatenating together your drum sounds. You will need to pad your sounds with zeros such that they are all the same length if you don't want the timing to be horrible!\n",
    "<audio controls=\"controls\">  <source src=\"imgs/beat.wav\" type=\"audio/wav\">  </audio>\n"
   ]
  },
  {
   "cell_type": "code",
   "execution_count": 136,
   "metadata": {
    "collapsed": false
   },
   "outputs": [],
   "source": [
    "# Solution goes here"
   ]
  },
  {
   "cell_type": "markdown",
   "metadata": {},
   "source": [
    "## C.3 Boids\n",
    "Fair warning: this is a hard problem. It is acheivable, but only attempt it if you are both enthusaistic and very comfortable with the array operations we have seen so far.\n",
    "\n",
    "Extend the fireworks code to implement the *boids* animation algorithm explained at http://www.vergenet.net/~conrad/boids/pseudocode.html\n",
    "(a high level explanation can be read at https://cs.stanford.edu/people/eroberts/courses/soco/projects/2008-09/modeling-natural-systems/boids.html)\n",
    "\n",
    "This models the \"flocking\" behaviour of birds. It is widely used in computer animation. For example, the motion of the famous wildebeest stampede scene in the Lion King was computed with a modified Boids algorithm.\n",
    "\n",
    "Represents your boids as a single Numpy array. Use columns to represent x,y,dx,dy, and any other per-boid values you need.\n",
    "\n",
    "Use the `plot_array` from the fireworks example to plot your results. I recommend calling `plt.clf()` before each `plot_array()`  to clear the drawing each time (otherwise you will run into slowdowns, and you'll have a big trail behind all of your Boids).\n",
    "\n",
    "Start with a simple 2D model of the Boids. You can implement a 3D model as well, but you will need to be able to project it onto 2D to draw it!\n"
   ]
  },
  {
   "cell_type": "code",
   "execution_count": null,
   "metadata": {
    "collapsed": true
   },
   "outputs": [],
   "source": [
    "~"
   ]
  }
 ],
 "metadata": {
  "anaconda-cloud": {},
  "kernelspec": {
   "display_name": "Python [Root]",
   "language": "python",
   "name": "Python [Root]"
  },
  "language_info": {
   "codemirror_mode": {
    "name": "ipython",
    "version": 2
   },
   "file_extension": ".py",
   "mimetype": "text/x-python",
   "name": "python",
   "nbconvert_exporter": "python",
   "pygments_lexer": "ipython2",
   "version": "2.7.12"
  }
 },
 "nbformat": 4,
 "nbformat_minor": 0
}
