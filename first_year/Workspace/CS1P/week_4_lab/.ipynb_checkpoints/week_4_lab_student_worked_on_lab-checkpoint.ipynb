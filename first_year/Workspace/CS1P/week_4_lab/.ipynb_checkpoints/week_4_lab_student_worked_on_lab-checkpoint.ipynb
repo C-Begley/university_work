{
 "cells": [
  {
   "cell_type": "markdown",
   "metadata": {},
   "source": [
    "# Week 4 : Lab \n",
    " ## Data structures: Lists, sorting and tuples\n",
    " ##### CS1P - University of Glasgow - John Williamson - 2016"
   ]
  },
  {
   "cell_type": "code",
   "execution_count": null,
   "metadata": {
    "collapsed": true
   },
   "outputs": [],
   "source": [
    "from __future__ import division   # make division work like Python 3.x\n",
    "## Remember to run this cell; the exercises rely on it!"
   ]
  },
  {
   "cell_type": "markdown",
   "metadata": {},
   "source": []
  },
  {
   "cell_type": "markdown",
   "metadata": {},
   "source": [
    "\n",
    "## Lab exercise\n",
    "\n",
    "**You must submit a reasonble attempt at this exercise to gain a tick for this work**.\n",
    "\n",
    "<font color=\"red\"> Remember to save your work frequently! </font>\n"
   ]
  },
  {
   "cell_type": "markdown",
   "metadata": {},
   "source": [
    "\n",
    "## Purpose of this lab\n",
    "\n",
    "This lab will get you up to speed on using lists in Python programs, including joining lists, removing and adding elements, copying lists, sorting and shuffling. You will need to synthesise the ideas from the lecture into some  larger problems.\n",
    "\n"
   ]
  },
  {
   "cell_type": "markdown",
   "metadata": {},
   "source": [
    "## Before the lab\n",
    "* Attempt at least the A exercises.\n",
    "* Read Ch 8.1 to 8.15 (pp. 81-91) in \"How to Think Like a Computer Scientist\". \n",
    "\n",
    "### If you're confused about tuples:\n",
    "* Read the blog article [lists versus tuples](http://nedbatchelder.com/blog/201608/lists_vs_tuples.html) by Ned Batchelder.\n"
   ]
  },
  {
   "cell_type": "markdown",
   "metadata": {},
   "source": [
    "## A: Quick problems\n",
    "These should take around 5 minutes each."
   ]
  },
  {
   "cell_type": "markdown",
   "metadata": {},
   "source": [
    "### A.1 Simple list operations\n",
    "You are given three lists `x,y,z`.\n",
    "\n",
    "Write code that will:\n",
    "* join the lists in the order `z,x,y`, \n",
    "* then remove the 3rd element of the list.\n",
    "* Store the result in a variable `zxy`. \n",
    "* Create a *copy* of `zxy` and call it `zxy_copy`. \n",
    "* Add the string `\"in the sunshine\"` to the end of `zxy_copy`."
   ]
  },
  {
   "cell_type": "code",
   "execution_count": 18,
   "metadata": {
    "collapsed": false
   },
   "outputs": [],
   "source": [
    "# These are the lists you are given\n",
    "x = [1,2,3]\n",
    "y = [0,0,0]\n",
    "z = [1,9,6,9]"
   ]
  },
  {
   "cell_type": "code",
   "execution_count": 29,
   "metadata": {
    "collapsed": false
   },
   "outputs": [
    {
     "name": "stdout",
     "output_type": "stream",
     "text": [
      "[1, 9, 9, 1, 2, 3, 0, 0, 0]\n",
      "[1, 9, 9, 1, 2, 3, 0, 0, 0, 'in the sunshine']\n"
     ]
    }
   ],
   "source": [
    "# Solution goes here\n",
    "zxy = z +  x + y\n",
    "del zxy[2]\n",
    "zxy_copy = zxy[:]\n",
    "zxy_copy.append(\"in the sunshine\")\n",
    "print zxy\n",
    "print zxy_copy"
   ]
  },
  {
   "cell_type": "code",
   "execution_count": 30,
   "metadata": {
    "collapsed": false
   },
   "outputs": [
    {
     "name": "stdout",
     "output_type": "stream",
     "text": [
      "All OK\n"
     ]
    }
   ],
   "source": [
    "## Test (make sure your variable is called zxy!)\n",
    "assert(zxy==[1,9,9,1,2,3,0,0,0])\n",
    "assert(zxy_copy==[1,9,9,1,2,3,0,0,0,\"in the sunshine\"])\n",
    "assert(zxy is not zxy_copy)\n",
    "print \"All OK\""
   ]
  },
  {
   "cell_type": "markdown",
   "metadata": {},
   "source": [
    "### A.2 Colours\n",
    "**Without using a loop**, using the following definition of **colours**, print out the following:\n",
    "1. The first element of  `colours`\n",
    "1. The last element of `colours`\n",
    "1. Every even element of `colours` (i.e. elements with even indices)\n",
    "1. Every odd element of `colours`\n",
    "1. The third to the sixth element of `colours` (be careful to include the sixth element)\n",
    "1. The last five elements of colours\n",
    "1. Every third element of the first 8 elements of `colours`, in reverse order.\n"
   ]
  },
  {
   "cell_type": "code",
   "execution_count": 63,
   "metadata": {
    "collapsed": false
   },
   "outputs": [
    {
     "name": "stdout",
     "output_type": "stream",
     "text": [
      "red\n",
      "white\n",
      "['red', 'orange', 'blue', 'green', 'gray']\n",
      "['black', 'yellow', 'cyan', 'purple', 'white']\n",
      "['orange', 'yellow', 'blue', 'cyan']\n",
      "['cyan', 'green', 'purple', 'gray', 'white']\n",
      "['purple', 'blue', 'black']\n"
     ]
    }
   ],
   "source": [
    "colours = [\"red\", \"black\", \"orange\", \"yellow\", \"blue\", \"cyan\", \"green\", \"purple\", \"gray\", \"white\"]"
   ]
  },
  {
   "cell_type": "code",
   "execution_count": 12,
   "metadata": {
    "collapsed": false
   },
   "outputs": [],
   "source": [
    "# Solution goes here\n",
    "print colours[0]\n",
    "print colours[9]\n",
    "print colours[::2]\n",
    "print colours[1::2]\n",
    "print colours[2:6]\n",
    "print colours[-5:]\n",
    "print colours[-3::-3]"
   ]
  },
  {
   "cell_type": "markdown",
   "metadata": {},
   "source": [
    "### A.3 Joining and removing\n",
    "Write a function `unique_elts()` that takes two lists, and returns a new list with the elements that appeared in *only one of the lists* (i.e. remove items that appeared in both)."
   ]
  },
  {
   "cell_type": "code",
   "execution_count": 4,
   "metadata": {
    "collapsed": false
   },
   "outputs": [],
   "source": [
    "# Solution goes here\n",
    "def unique(listA,listB):\n",
    "    l =[]\n",
    "    for i in range(len(listA)):\n",
    "        if listA[i] not in listB:\n",
    "            l.append(listA[i])\n",
    "    return l\n",
    "\n",
    "def unique_elts(list1,list2):\n",
    "    final_list = []   \n",
    "    l1 = unique(list1,list2)\n",
    "    l2 = unique(list2,list1)\n",
    "    final_list = l1+l2\n",
    "    return final_list\n"
   ]
  },
  {
   "cell_type": "code",
   "execution_count": 7,
   "metadata": {
    "collapsed": false
   },
   "outputs": [
    {
     "name": "stdout",
     "output_type": "stream",
     "text": [
      "All OK\n"
     ]
    }
   ],
   "source": [
    "## Tests\n",
    "## If you run this cell, it should print \"All OK\"\n",
    "## Otherwise, you'll see which of the lines caused the problem\n",
    "assert(unique_elts([1,2,3],[2,3]) == [1])\n",
    "assert(unique_elts([\"five\"],[\"five\"]) == [])\n",
    "assert(unique_elts([],[1,2,3]) == [1,2,3])\n",
    "assert(unique_elts([\"a\",\"b\",\"c\"],[1,2,3]) == [\"a\",\"b\",\"c\",1,2,3])\n",
    "print \"All OK\"\n"
   ]
  },
  {
   "cell_type": "markdown",
   "metadata": {},
   "source": [
    "### A.4 Nesting\n",
    "Write a function `nest(x,n)` which takes a value `x` and a number `n` and puts the value `x` inside a list, then puts that list inside a list, and so on, up to `n` levels, for any non-negative `n`. Putting one list inside another is called **nesting**.\n",
    "\n",
    "For example:\n",
    "\n",
    "    nest(\"hello\",0)  = \"hello\"     # n=0 does nothing\n",
    "    nest(\"hello\",1)  = [\"hello\"]   # n=1 puts it in a list\n",
    "    nest(\"hello\",4)  = [[[[\"hello\"]]]] # n=4 puts inside a list inside a list inside ...\n",
    "        "
   ]
  },
  {
   "cell_type": "code",
   "execution_count": 23,
   "metadata": {
    "collapsed": false
   },
   "outputs": [],
   "source": [
    "# Solution goes here\n",
    "def nest(x,n):\n",
    "    if n ==0 :\n",
    "        return x\n",
    "    \n",
    "    nest_list = [x]\n",
    "    \n",
    "    for i in range(n-1):\n",
    "        nest_list = [nest_list]\n",
    "    return nest_list\n"
   ]
  },
  {
   "cell_type": "code",
   "execution_count": 24,
   "metadata": {
    "collapsed": false
   },
   "outputs": [
    {
     "name": "stdout",
     "output_type": "stream",
     "text": [
      "All OK\n"
     ]
    }
   ],
   "source": [
    "## Tests\n",
    "assert(nest(\"hello\",0)==\"hello\")\n",
    "assert(nest(\"hello\",1)==[\"hello\"])\n",
    "assert(nest(\"hello\",5)==[[[[[\"hello\"]]]]])\n",
    "print \"All OK\""
   ]
  },
  {
   "cell_type": "markdown",
   "metadata": {},
   "source": [
    "### A.5 Adding the length\n",
    "Write a function `add_length(l)` which takes a list `l` and then appends the length of the list as the last element. **Don't use a return statement to return the list**. \n",
    "\n",
    "Think about what being able to change a list **in place** means about transferring values from functions back into the calling code.\n",
    "\n",
    "Check that your function does what you think it does.\n"
   ]
  },
  {
   "cell_type": "code",
   "execution_count": 77,
   "metadata": {
    "collapsed": false
   },
   "outputs": [],
   "source": [
    "# Solution goes here\n",
    "def add_length(List):\n",
    "    List.append(len(List))"
   ]
  },
  {
   "cell_type": "code",
   "execution_count": 78,
   "metadata": {
    "collapsed": false
   },
   "outputs": [
    {
     "name": "stdout",
     "output_type": "stream",
     "text": [
      "['a', 'b', 'c', 3]\n",
      "None\n"
     ]
    }
   ],
   "source": [
    "# this will work.\n",
    "x = [\"a\", \"b\", \"c\"]\n",
    "add_length(x)\n",
    "print x\n",
    "\n",
    "# Question: why doesn't this work?\n",
    "print add_length([1,2,3])"
   ]
  },
  {
   "cell_type": "code",
   "execution_count": 79,
   "metadata": {
    "collapsed": false
   },
   "outputs": [
    {
     "name": "stdout",
     "output_type": "stream",
     "text": [
      "All OK\n"
     ]
    }
   ],
   "source": [
    "## Tests\n",
    "l = [1,2,3]\n",
    "assert(add_length(l)==None)\n",
    "assert(l==[1,2,3,3])\n",
    "add_length(l)\n",
    "assert(l==[1,2,3,3,4])\n",
    "l = []\n",
    "add_length(l)\n",
    "assert(l==[0])\n",
    "print \"All OK\""
   ]
  },
  {
   "cell_type": "markdown",
   "metadata": {},
   "source": [
    "--------------\n",
    "## B: List Problems\n",
    "These should take 30-45 minutes each.\n",
    "\n",
    "### A slightly dodgy new startup: <font color=\"green\"> myshopfastr.com </font>\n",
    "You're writing an app to help people shop more efficiently in the supermarket (for people who still go to physical shops).\n",
    "There are several bits of functionality to implement: the ability to search for items easily (e.g. \"celery\" might return \"Sainsbury's Organic Celery 100g, ...\") and the ability to show the user results as a list of options:\n",
    "\n",
    "     Sainsbury's Organic Celery 100g, £2.99, 100g, £0.30, B3\n",
    "     Sainsbury's Celery 100g, £1.99, 100g, £0.20, A1\n",
    "     Sainsbury's Basic Celery 50g, £0.39, 50g, £0.08, A1\n",
    "     Sainsbury's Extremely Basic Celery, £0.10, 50g, £0.02, A4     \n",
    "     ...\n",
    "     \n",
    "\n",
    "You also need to convince investors that your design choices are making the app better.     \n",
    "\n",
    "-------------     \n",
    "\n",
    "### B.1: Stopping and stemming\n",
    "Search engines like Google often need to \"clean up\" search queries (the query is the thing you type into a search box) before trying to find terms (words) in documents. \n",
    "\n",
    "For example \"what is the fastest python list iterator\" might be transformed into keywords `[\"python\", \"list\", \"fast\", \"iterator\"]`. In our example, we'd like users who think the computer is a person and type in things like \"find me the apples\" to be transformed to `[\"apple\"]`, removing the extraneous parts of the search query.\n",
    "\n",
    "There are two parts to this: **stopword** removal, which removes short, uninformative words like \"the\" and \"and\"; and **stemming** which removes common endings like \"ing\" and \"s\" to find the basic form of a word. Here we'll \"stem\" by just chopping off any bits of words that match common endings.\n",
    "\n",
    "For this problem, you need to write a bit of code to first remove **stopwords** and then **stem** the remaining words. Try getting the stopword removal working first, then go on to the stemming.\n",
    "\n",
    "Steps:\n",
    "1. Create your own list of common stop words (e.g. [\"and\", \"to\", \"the\", ...])\n",
    "2. Create your own list of common English endings (e.g. [\"ing\", \"ings\", \"s\", \"er\", \"tion\"])\n",
    "3. Get user input.\n",
    "4. Split the input into words. You can use `my_string.split()` to split a string `my_list` up into a list of individual words.\n",
    "5. Remove all of the words in the stopwords from the user input.\n",
    "6. For each word, test if the word ends in one of the common endings, and if it does, remove the ending. \n",
    "7. Print out the cleaned up search terms.\n",
    "\n",
    "Note that you can use `.endswith()` on a string to test if the string ends with those characters. You can join a list of strings back together using `join()`, but the syntax is slightly unexpected: see below for how to use it.\n",
    "\n",
    "**Note that the rules to make stemming really work well for English are annoyingly complicated. Don't worry if your simple stemmer doesn't do a very sensible job (e.g. \"Sting\" becomes \"St\"!)**\n",
    "\n",
    "Read the little code examples below to see how to use thre string functions mentioned above."
   ]
  },
  {
   "cell_type": "code",
   "execution_count": 1,
   "metadata": {
    "collapsed": false
   },
   "outputs": [
    {
     "name": "stdout",
     "output_type": "stream",
     "text": [
      "True\n",
      "False\n"
     ]
    }
   ],
   "source": [
    "# an endswith() example\n",
    "# simply returns True if the string ends with the given string\n",
    "# unsuprisingly, there is a .startswith() as well.\n",
    "print \"running\".endswith(\"ing\")\n",
    "print \"running\".endswith(\"tion\")"
   ]
  },
  {
   "cell_type": "code",
   "execution_count": null,
   "metadata": {
    "collapsed": false
   },
   "outputs": [],
   "source": [
    "# how split() can be used to split a string up\n",
    "# you can actually tell split what you want to use a separator between items (called *tokens*)\n",
    "# if you don't give one, it defaults to spaces\n",
    "print \"this is a test\".split()"
   ]
  },
  {
   "cell_type": "code",
   "execution_count": 10,
   "metadata": {
    "collapsed": false
   },
   "outputs": [
    {
     "name": "stdout",
     "output_type": "stream",
     "text": [
      "one two three\n"
     ]
    }
   ],
   "source": [
    "# using join()\n",
    "# this joins each word with a space inbetween\n",
    "print \" \".join([\"one\", \"two\", \"three\"])"
   ]
  },
  {
   "cell_type": "code",
   "execution_count": 6,
   "metadata": {
    "collapsed": false
   },
   "outputs": [
    {
     "name": "stdout",
     "output_type": "stream",
     "text": [
      "a<->b<->c\n"
     ]
    }
   ],
   "source": [
    "# you can use any string to go in between\n",
    "# but note that you call join() as a method of the\n",
    "# the string you want to use as the separator, and pass\n",
    "# the list to join as an argument\n",
    "print \"<->\".join([\"a\", \"b\", \"c\"])"
   ]
  },
  {
   "cell_type": "code",
   "execution_count": 61,
   "metadata": {
    "collapsed": false
   },
   "outputs": [
    {
     "name": "stdout",
     "output_type": "stream",
     "text": [
      "['Where', 'is', 'the', 'cheese', '!']\n",
      "!\n",
      "cheese \n"
     ]
    }
   ],
   "source": [
    "# Solution goes here\n",
    "common = [\"and\", \"to\", \"the\", \"is\", \"are\", \"who\",\"what\", \"when\", \"where\", \"how\"]\n",
    "endings = [\"ing\", \"ings\", \"s\", \"er\", \"tion\"]\n",
    "punctutation = ['.', ',','?', '!']\n",
    "\n",
    "l = \"Where is the cheese !\"\n",
    "\n",
    "l = l.split()\n",
    "\n",
    "def remove_cap(l):\n",
    "    for i in range(len(l)):\n",
    "        l[i] = l[i].lower()\n",
    "    return l\n",
    "    \n",
    "    \n",
    "\n",
    "def remove_punc(l):\n",
    "    cleaned_l = []\n",
    "    for i in range(len(l)):                 \n",
    "        for j in range(len(punctutation)):\n",
    "                if l[i] == punctutation[j]:\n",
    "                    break\n",
    "                if j == (len(punctutation)-1):\n",
    "                    cleaned_l.append(l[i])                 \n",
    "    return cleaned_l\n",
    "    \n",
    "\n",
    "def remove_end(l):\n",
    "    cleaned_l = l[:]\n",
    "    \n",
    "    for i in range(len(l)):                 \n",
    "        for j in range(len(endings)):\n",
    "                if l[i].endswith(endings[j]):\n",
    "                    del cleaned_l[i]\n",
    "                    ended = list(l[i])\n",
    "                    ended = ended[:-(len(endings[i])-1)]\n",
    "                    cleaned_l.append(\"\".join(ended))\n",
    "                    \n",
    "    return cleaned_l\n",
    "            \n",
    "    \n",
    "def remove_common(l, common = common):\n",
    "    cleaned_l = []\n",
    "    for i in range(len(l)):                 \n",
    "        for j in range(len(common)):\n",
    "                if l[i] == common[j]:\n",
    "                    break\n",
    "                if j == (len(common)-1):\n",
    "                            cleaned_l.append(l[i])                 \n",
    "    return cleaned_l\n",
    "                \n",
    "def clean_up(l):\n",
    "    cleaned_l = []\n",
    "    cleaned_l = remove_cap(l)\n",
    "    cleaned_l = remove_punc(cleaned_l)\n",
    "    cleaned_l = remove_end(cleaned_l)\n",
    "    cleaned_l = remove_common(cleaned_l)\n",
    "    cleaned_l = \" \".join(cleaned_l)\n",
    "    return cleaned_l\n",
    "\n",
    "print l\n",
    "print clean_up(l) "
   ]
  },
  {
   "cell_type": "markdown",
   "metadata": {},
   "source": [
    "## Tests\n",
    "The output you get will depend on what words you included in your `stopwords` list, and what stems you listed in the `stems` list.\n",
    "\n",
    "For example, I'd expect\n",
    "      \n",
    "      where are the cheeses\n",
    "to become\n",
    "      \n",
    "      cheese\n",
    "      \n",
    "and \n",
    "\n",
    "    for shoe polishing \n",
    "to become\n",
    "\n",
    "    shoe polish"
   ]
  },
  {
   "cell_type": "markdown",
   "metadata": {},
   "source": [
    "## Extension (OPTIONAL)\n",
    "\n",
    "Work out how to remove any punctuation and make the search case-insensitive.\n"
   ]
  },
  {
   "cell_type": "markdown",
   "metadata": {},
   "source": [
    "### B.2: Showing and sorting lists\n",
    "For <font color=\"green\"> myshopfastr.com </font>, the app has to display a list of items to the user on their phone. Each item has multiple attributes, like price, weight, calories, and aisle position.\n",
    "\n",
    "Your task is (a) create the **data structure** which holds this information (b) be able to present this information flexibly; for example to show the items according to their price, or to order them by aisle to make checking them off as you go quicker.\n",
    "\n",
    "We'll store the information as a list of lists: e.g. we might have\n",
    "\n",
    "    [[\"Sainsbury's Organic Celery\", 2.99, 100, \"A1\"], [\"Sainsbury's Organic Peanut Butter\", 2.49, 100, \"C3\"]...]\n",
    "\n",
    "*NB: in practice a real system would be likely to use a **database** to store and sort this kind of information, but it would typically be returned to the app code as a list-of-lists.*\n",
    "\n",
    "#### Using key()\n",
    "You can sort a lists-of-lists just like any other list. What Python will do by default is sort by the first element of the \"internal\" lists. Try this example:"
   ]
  },
  {
   "cell_type": "code",
   "execution_count": 62,
   "metadata": {
    "collapsed": false
   },
   "outputs": [
    {
     "name": "stdout",
     "output_type": "stream",
     "text": [
      "[['a', 'fire'], ['b', 'earth'], ['c', 'metal'], ['d', 'air']]\n"
     ]
    }
   ],
   "source": [
    "to_sort = [[\"b\", \"earth\"],  [\"c\", \"metal\"], [\"a\", \"fire\"], [\"d\", \"air\"]]\n",
    "# note that we will sort by the alphabetical order of the first element of the inner list\n",
    "print sorted(to_sort)"
   ]
  },
  {
   "cell_type": "markdown",
   "metadata": {},
   "source": [
    "But we need to able to sort by different attributes (e.g. by price or by aisle number). Python provides a parameter called `key` to tell `.sort()` or `sorted()` which element of the list to look at.\n",
    "\n",
    "`key` takes a **function** which transforms the element before it is used to check the sort order. For example, we can make Python look at the second element of a list:"
   ]
  },
  {
   "cell_type": "code",
   "execution_count": 7,
   "metadata": {
    "collapsed": false
   },
   "outputs": [],
   "source": [
    "def second_elt(l):\n",
    "    # remember that [1] means the second element.\n",
    "    return l[1]\n",
    "\n",
    "# now will be sorted by the ordering of the second element of the list\n",
    "#print sorted(to_sort, key=second_elt)"
   ]
  },
  {
   "cell_type": "markdown",
   "metadata": {},
   "source": [
    "## Task\n",
    "You are given a set of lists of product data (below). \n",
    "\n",
    "1. Calculate a new list `weight_price`, with the price-per-weight for each shopping item.\n",
    "\n",
    "1. Combine all of the lists of product data into a single list-of-lists `product_data` as described above. \n",
    "\n",
    "1. Write a function `sort_shopping(shopping_list, n)` that returns a sorted list of items, which takes a number `n` and sorts the products by that column.\n",
    "\n",
    "1. Write a function that outputs each entry in the list on a new line, with each  attributed separated with the string `\\t`. This will tabulate the list nicely. \n"
   ]
  },
  {
   "cell_type": "code",
   "execution_count": 3,
   "metadata": {
    "collapsed": true
   },
   "outputs": [],
   "source": [
    "products = [\"shampoo\", \"conditioner\", \"hair wax\", \"shoe polish\", \"shower gel\", \"basic celery\"]\n",
    "prices = [2.99, 2.99, 5.00, 2.99, 4.00, 1.00]\n",
    "aisles = [\"A1\", \"A2\", \"A2\", \"D4\", \"G3\", \"E1\"]\n",
    "weights = [800, 800, 200, 100, 50, 100]"
   ]
  },
  {
   "cell_type": "code",
   "execution_count": 52,
   "metadata": {
    "collapsed": false
   },
   "outputs": [
    {
     "name": "stdout",
     "output_type": "stream",
     "text": [
      "\n",
      "\n",
      " \t shampoo \t 2.99 \t A1 \t 800 \t 0.0037375 \n",
      "\n",
      " \t conditioner \t 2.99 \t A2 \t 800 \t 0.0037375 \n",
      "\n",
      " \t hair wax \t 5.0 \t A2 \t 200 \t 0.025 \n",
      "\n",
      " \t shoe polish \t 2.99 \t D4 \t 100 \t 0.0299 \n",
      "\n",
      " \t basic celery \t 1.0 \t E1 \t 100 \t 0.01 \n",
      "\n",
      " \t shower gel \t 4.0 \t G3 \t 50 \t 0.08\n"
     ]
    }
   ],
   "source": [
    "# Solution goes here\n",
    "n = 2\n",
    "def priceperweights(weights, price):\n",
    "    l = []\n",
    "    for i in range(len(weights)):\n",
    "        l.append(price[i]/weights[i])\n",
    "    return l\n",
    "\n",
    "def combine_lists(products,prices,aisles,weights):\n",
    "    list_products = []\n",
    "    priceperweight= priceperweights(weights, prices)\n",
    "    for i in range(len(products)):\n",
    "        list_products.append([products[i],prices[i],aisles[i],weights[i],priceperweight[i]])\n",
    "    return list_products\n",
    "\n",
    "def sort(l):\n",
    "    return l[n]\n",
    "\n",
    "def table(l):\n",
    "    for i in range(len(l)):\n",
    "        print \"\\n\"\n",
    "        print \" \\t %s \\t %s \\t %s \\t %s \\t %s\" %(l[i][0], l[i][1], l[i][2], l[i][3], l[i][4]),\n",
    "\n",
    "\n",
    "sorted_list = sorted(combine_lists(products,prices,aisles,weights),key=sort )\n",
    "table(sorted_list)\n",
    "   \n"
   ]
  },
  {
   "cell_type": "code",
   "execution_count": 53,
   "metadata": {
    "collapsed": false
   },
   "outputs": [
    {
     "ename": "NameError",
     "evalue": "name 'print_shopping' is not defined",
     "output_type": "error",
     "traceback": [
      "\u001b[1;31m---------------------------------------------------------------------------\u001b[0m",
      "\u001b[1;31mNameError\u001b[0m                                 Traceback (most recent call last)",
      "\u001b[1;32m<ipython-input-53-891d24a0ca55>\u001b[0m in \u001b[0;36m<module>\u001b[1;34m()\u001b[0m\n\u001b[1;32m----> 1\u001b[1;33m \u001b[0mprint_shopping\u001b[0m\u001b[1;33m(\u001b[0m\u001b[0msort_shopping\u001b[0m\u001b[1;33m(\u001b[0m\u001b[0mproduct_data\u001b[0m\u001b[1;33m,\u001b[0m \u001b[1;36m2\u001b[0m\u001b[1;33m)\u001b[0m\u001b[1;33m)\u001b[0m\u001b[1;33m\u001b[0m\u001b[0m\n\u001b[0m",
      "\u001b[1;31mNameError\u001b[0m: name 'print_shopping' is not defined"
     ]
    }
   ],
   "source": [
    "print_shopping(sort_shopping(product_data, 2))\n"
   ]
  },
  {
   "cell_type": "markdown",
   "metadata": {},
   "source": [
    "## Tests\n",
    "`print_shopping(sort_shopping(product_data, 4))`  should give:\n",
    "\n",
    "    shampoo \t    2.99 \tA1 \t800 \t0.0037375 \t\n",
    "    conditioner \t2.99 \tA2 \t800 \t0.0037375 \t\n",
    "    basic celery \t1.0 \tE1 \t100 \t0.01 \t\n",
    "    hair wax \t    5.0 \tA2 \t200 \t0.025 \t\n",
    "    shoe polish \t2.99 \tD4 \t100 \t0.0299 \t\n",
    "    shower gel \t  4.0 \tG3 \t50 \t 0.08 \t\n",
    "    \n",
    "    \n",
    "`print_shopping(sort_shopping(product_data, 2))` should give:\n",
    "\n",
    "    shampoo \t    2.99 \tA1 \t800 \t0.0037375 \t\n",
    "    conditioner \t2.99 \tA2 \t800 \t0.0037375 \t\n",
    "    hair wax \t    5.0 \tA2 \t200 \t0.025 \t\n",
    "    shoe polish \t2.99 \tD4 \t100 \t0.0299 \t\n",
    "    basic celery \t1.0 \tE1 \t100 \t0.01 \t\n",
    "    shower gel \t  4.0 \tG3 \t50      0.08 \t\n",
    "\n"
   ]
  },
  {
   "cell_type": "markdown",
   "metadata": {
    "collapsed": true
   },
   "source": [
    "### B.3: The bootstrap\n",
    "Now that you're ready to deploy your \"amazing\" app, you've released a few different beta versions to test which sorting option works best as a default. Each user has rated the app with 1-5 stars. You are also the data scientist for the company, so you need to work out which version is better.\n",
    "\n",
    "You have two big lists of the star ratings users gave. You want to know if \"Version A\" with sort-by-prices as default, or \"Version B\" with sort-by-aisle as default is going to be a bigger hit, or if it doesn't make any difference a tall. Those of you who have studied statistics will know specialized **statistical tests** that you can run to measure this. \n",
    "\n",
    "But there are simple tests you can do if you have a computer to do many repetitive calculations. We'll use a simple technique called the **bootstrap test** to see whether the two versions of the app are really different.\n",
    "\n",
    "### Task\n",
    "There are three steps to the bootstrap test:\n",
    "1. Take a list of responses (here, the star ratings), then make a new list by **randomly drawing** elements from the original responses.  Elements from the original list can appear many times in the random list. The new random list must be the same length as the original list.\n",
    "1. Measure some value (called a `statistic`) of the new random list; here we'd like the **average** (mean) rating of the app. \n",
    "1. Apply this random new list creation many times, computing the statistic (mean) of each one, and collecting together a list of the resulting statistics (means).\n",
    "\n",
    "#### Coding steps\n",
    "To write your code:\n",
    "1. Write a function `mean(l)` computes the arithmetic mean of a list. This is our `statistic`.\n",
    "2. Write a function `random_draws(l)`, which creates a new list and fills it with random choices from the first list `l`. The length of the random list should be the same length as the original list `l`. **Note that this is not a shuffle, because elements could appear multiple times in the new random list**. You can use `random.choice()` to select a random element from a list. \n",
    "3. Write a function `bootstrap(l, n)` which calls `random_draws()` on the list `l` and then computes the mean of the random list. It should do this *n* times and stores the results of the mean calculations in a list. There should be *n* mean calculations.\n",
    "\n",
    "#### Tips\n",
    "Remember that to use functions from `random`,  it must be imported with\n",
    "\n",
    "    import random\n",
    "\n",
    "at the start of your solution.\n",
    "\n",
    "The code below the solution will run `bootstrap()` on the results for A and B and plot them -- you should be able to see clearly whether there is a difference or not. Try with version C as well (e.g. compare A and C)"
   ]
  },
  {
   "cell_type": "code",
   "execution_count": 87,
   "metadata": {
    "collapsed": false
   },
   "outputs": [
    {
     "name": "stdout",
     "output_type": "stream",
     "text": [
      "[2, 2, 5, 8]\n"
     ]
    }
   ],
   "source": [
    "# Solution goes here\n",
    "import random\n",
    "\n",
    "l = [8,2]\n",
    "\n",
    "def mean(l):\n",
    "    total = 0\n",
    "    for i in range(len(l)):\n",
    "        total += l[i]\n",
    "    mean = total/len(l)\n",
    "    return mean\n",
    "\n",
    "def random_draws(l):\n",
    "    final = []\n",
    "    for i in range(len(l)):\n",
    "        final.append(l[random.randint(0,(len(l)-1))])\n",
    "    return final\n",
    "\n",
    "def bootstrap(l, n):\n",
    "    mean_list = []\n",
    "    for i in range(n):\n",
    "        ran_l = random_draws(l)\n",
    "        mean_l=mean(ran_l)\n",
    "        mean_list.append(mean_l)\n",
    "    return mean_list\n",
    "        \n",
    "print bootstrap(l, 4)      \n",
    "    \n",
    "\n",
    "        "
   ]
  },
  {
   "cell_type": "code",
   "execution_count": 86,
   "metadata": {
    "collapsed": false
   },
   "outputs": [],
   "source": [
    "## This is the raw data collected from the app. \n",
    "A = [1, 2, 4, 5, 1, 1, 3, 5, 5, 4, 1, 4, 1, 3, 3, 1, 5, 1, 1, 3, 3, 1, 2, 1, 5, 1, 5, 5, 2, 1, 3, 1, 1, 1, 2, 2, 1, 1, 5, 2, 3, 4, 1, 1, 3, 1, 1, 5, 1, 1, 1, 1, 1, 5, 1, 5, 1, 1, 1, 1, 1, 1, 2, 2, 1, 2, 2, 3, 1, 1, 1, 1, 5, 1, 1, 4, 1, 5, 2, 4, 2, 2, 1, 3, 2, 2, 4, 1, 5, 1, 1, 5, 1, 1, 1, 3, 1, 1, 1, 4, 1, 3, 1, 1, 2, 1, 3, 1, 5, 3, 5, 2, 1, 1, 1, 2, 2, 1, 3, 3, 5, 2, 2, 1, 3, 1, 2, 1, 3, 1, 1, 5, 5, 1, 3, 5, 2, 1, 1, 1, 3, 3, 1, 1, 1, 4, 1, 1, 3, 1]\n",
    "B = [5, 1, 1, 5, 5, 1, 4, 5, 5, 5, 1, 1, 5, 4, 5, 2, 1, 4, 2, 1, 1, 5, 5, 1, 5, 2, 1, 4, 2, 4, 1, 2, 1, 1, 5, 3, 3, 3, 4, 1, 1, 1, 1, 2, 4, 5, 1, 5, 5, 3, 4, 1, 5, 1, 4, 5, 1, 4, 1, 5, 1, 5, 2, 5, 5, 5, 1, 1, 1, 4, 3, 1, 1, 4, 5, 5, 5, 1, 1, 1, 5, 5, 5, 5, 1, 5, 1, 4, 1, 1, 1, 5, 4, 3, 1, 5, 2, 5, 1, 3, 4, 1, 1, 1, 3, 1, 1, 5, 5, 1, 2, 1, 5, 5, 5, 5, 5, 5, 5, 5, 5, 1, 1, 4, 5, 1, 5, 1, 3, 4, 4, 1, 1, 5, 4, 5, 1, 5, 5, 2, 5, 5, 4, 5, 5, 1, 3, 1, 3, 2]\n",
    "\n",
    "## We also have data from a version C, which has sort-by-weight as the default\n",
    "C = [5, 1, 5, 1, 3, 1, 4, 2, 4, 5, 1, 1, 4, 1, 1, 1, 4, 4, 2, 1, 1, 1, 2, 1, 2, 3, 2, 1, 1, 1, 1, 1, 5, 1, 1, 1, 5, 5, 5, 1, 2, 3, 2, 4, 1, 1, 3, 3, 1, 1, 2, 1, 1, 5, 2, 3, 1, 3, 3, 2, 1, 2, 2, 1, 1, 5, 3, 1, 1, 3, 1, 1, 5, 1, 1, 1, 3, 4, 2, 1, 1, 1, 1, 3, 2, 1, 1, 1, 1, 1, 3, 4, 2, 4, 1, 1, 5, 1, 4, 3, 5, 1, 1, 1, 5, 1, 5, 4, 1, 1, 5, 1, 1, 1, 1, 5, 2, 4, 1, 1, 3, 1, 1, 5, 1, 3, 2, 1, 2, 1, 1, 3, 1, 1, 1, 1, 1, 3, 5, 5, 1, 1, 4, 1, 5, 3, 1, 1, 3, 2]"
   ]
  },
  {
   "cell_type": "code",
   "execution_count": 88,
   "metadata": {
    "collapsed": false
   },
   "outputs": [
    {
     "data": {
      "text/plain": [
       "<matplotlib.legend.Legend at 0xa7eab70>"
      ]
     },
     "execution_count": 88,
     "metadata": {},
     "output_type": "execute_result"
    },
    {
     "data": {
      "image/png": "[encoded data removed]",
      "text/plain": [
       "<matplotlib.figure.Figure at 0xa262c88>"
      ]
     },
     "metadata": {},
     "output_type": "display_data"
    },
    {
     "data": {
      "image/png": "[encoded data removed]",
      "text/plain": [
       "<matplotlib.figure.Figure at 0xa7353c8>"
      ]
     },
     "metadata": {},
     "output_type": "display_data"
    }
   ],
   "source": [
    "## This code just plots a histogram of the values of the results\n",
    "## If the curves overlap a lot, then the difference probably\n",
    "## is not meaningful\n",
    "\n",
    "import matplotlib.pyplot as plt\n",
    "%matplotlib inline\n",
    "\n",
    "### Plot A versus B\n",
    "\n",
    "## plot histograms\n",
    "plt.hist(bootstrap(A,1000), bins=10)\n",
    "plt.hist(bootstrap(B,1000), bins=10)\n",
    "plt.xlim(1,5)\n",
    "\n",
    "## data scientists always label their graphs!\n",
    "plt.xlabel(\"App star rating\")\n",
    "plt.ylabel(\"Frequency\")\n",
    "plt.legend([\"Version A\", \"Version B\"])\n",
    "\n",
    "### Plot A versus C\n",
    "plt.figure()\n",
    "\n",
    "## plot histograms\n",
    "plt.hist(bootstrap(A,1000), bins=10)\n",
    "plt.hist(bootstrap(C,1000), bins=10)\n",
    "plt.xlim(1,5)\n",
    "\n",
    "## data scientists always label their graphs!\n",
    "plt.xlabel(\"App star rating\")\n",
    "plt.ylabel(\"Frequency\")\n",
    "plt.legend([\"Version A\", \"Version C\"])\n",
    "\n"
   ]
  },
  {
   "cell_type": "markdown",
   "metadata": {},
   "source": [
    "**If you managed this: Great! Now you have some pretty graphs show the venture capitalists and get another funding round sorted out :) **\n",
    "\n",
    "\n",
    "## (Optional) Further questions\n",
    "If you're interested:\n",
    "* Try plotting the histogram of the  original app ratings (e.g. `plt.hist(A, bins=10)`). Why is this not very helpful, whereas the bootstrap result is easy to interpret? \n",
    "* What happens if the bootstrap value is very small (e.g. bootstrap(A,2))? \n",
    "* Or very large?"
   ]
  },
  {
   "cell_type": "markdown",
   "metadata": {},
   "source": [
    "---------\n",
    "\n",
    "## C: Extended problems (OPTIONAL)\n",
    "These *extended* problems are optional for students who are keen to learn more. If you've finished the whole lab and want to explore these ideas in more depth, these problems and resources are intended to help you do that. \n",
    "\n",
    "## <font color=\"red\"> You do not need to make any attempt at any of this section to receive a tick! </font>\n",
    "\n",
    "These will take 30-60 minutes each.\n",
    "\n",
    "### C.1 Function lists\n",
    "You can put anything that you can put in a variable in a Python list. This includes functions. \n",
    "\n",
    "For example, imagine you had to build a little command set to drive a robot. But the robot's remote control unit can only send a numerical code for each function to be executed (e.g. 0=go forward, 1=turn left). \n",
    "\n",
    "If you put functions that did these operations in a list you can just index them and call them:"
   ]
  },
  {
   "cell_type": "code",
   "execution_count": 307,
   "metadata": {
    "collapsed": false
   },
   "outputs": [],
   "source": [
    "def forward():\n",
    "    print \"forward\"\n",
    "    \n",
    "def left():\n",
    "    print \"left\"\n",
    "    \n",
    "def right():    \n",
    "    print \"right\"\n",
    "    \n",
    "    \n",
    "# note that there is no following () after the functions\n",
    "# so they are not called, but instead a reference to them is put in the list\n",
    "fn_list = [forward, left, right]\n",
    "\n",
    "# this takes the first element of fn_list, then calls it using ()\n",
    "fn_list[0]()\n",
    "\n",
    "fn_list[1]()\n",
    "fn_list[0]()\n",
    "fn_list[0]()\n",
    "fn_list[2]()\n"
   ]
  },
  {
   "cell_type": "markdown",
   "metadata": {},
   "source": [
    "### Task\n",
    "Write a set of functions for the following commands, for a robot moving in 2D space (x and y) and put them in a list so that we have:\n",
    "\n",
    "    0: move forward by 1 unit, drawing a line from the previous position to the new one\n",
    "    1: turn left; make the new direction 60 degrees left of the previous\n",
    "    2: turn right; make the new direction 60 degrees right of the previous\n",
    "    3: remember; remember where we are and where we are facing;\n",
    "    4: return; return to the last place we remembered and remove it from the remembered list.\n",
    "    \n",
    "To do this, you will need to store where the robot currently is in 2D (hint: a list consisting of an x and y co-ordinate) and what way the robot is facing. Start with the robot facing upwards at position (0,0). Use a vector (dx,dy) to represent the direction the robot faces.\n",
    "\n",
    "You will also need to keep a list of places that have been remembered (and the direction the robot was facing) by command 3, and be able to return to them with command 4. Command 4 should also remove the remembered location from the list of  remembered locations (hint: how could you use `del` to do this?).\n",
    "\n",
    "Write a function `simulate()` to apply these commands to a list of numbers 0-4 and simulate the robot's movement.\n",
    "\n",
    "### Tips\n",
    "\n",
    "The command `line(ox,oy,x,y)` defined below will draw a line from (ox,oy) to (x,y).  The function `rotate()` to rotate a direction vector by a given angle is provided for you.\n",
    "\n",
    "\n",
    "        "
   ]
  },
  {
   "cell_type": "code",
   "execution_count": 154,
   "metadata": {
    "collapsed": true
   },
   "outputs": [],
   "source": [
    "import math\n",
    "\n",
    "def rotate(dx, dy, angle=60):\n",
    "    \"\"\"Takes a direction dx,dy and returns a new direction (dx_new, dy_new)\n",
    "    which is rotated by the given number of degrees\"\"\"\n",
    "    rad_angle = math.radians(angle)\n",
    "    dx_new = dx  * math.cos(rad_angle) + dy * math.sin(rad_angle)\n",
    "    dy_new = -dx * math.sin(rad_angle) + dy * math.cos(rad_angle)\n",
    "    return dx_new, dy_new\n",
    "    "
   ]
  },
  {
   "cell_type": "code",
   "execution_count": 155,
   "metadata": {
    "collapsed": false
   },
   "outputs": [],
   "source": [
    "def line(ox,oy,x,y):    \n",
    "    plt.plot([ox,x], [oy,y], 'k')\n",
    "    plt.plot([ox], [oy], 'ko')\n",
    "    plt.plot([x], [y], 'ro')\n",
    "    plt.xlim(-10,10)\n",
    "    plt.ylim(-10,10)\n",
    "    plt.axis(\"off\")"
   ]
  },
  {
   "cell_type": "code",
   "execution_count": 156,
   "metadata": {
    "collapsed": false
   },
   "outputs": [],
   "source": [
    "# Solution goes here"
   ]
  },
  {
   "cell_type": "code",
   "execution_count": 157,
   "metadata": {
    "collapsed": false
   },
   "outputs": [],
   "source": [
    "## Test\n",
    "## should be a kind of bird shape\n",
    "simulate([0,0,0,3,2,0,0,2,0,4,3,1,0,0,1,0,4,0,0])    \n",
    " "
   ]
  },
  {
   "cell_type": "code",
   "execution_count": 158,
   "metadata": {
    "collapsed": false
   },
   "outputs": [],
   "source": [
    "# a hexagon\n",
    "simulate([0,1,0,1,0,1,0,1,0,1,0,1])  "
   ]
  },
  {
   "cell_type": "markdown",
   "metadata": {},
   "source": [
    "### C.2 Matrices\n",
    "Matrices are 2D arrays (rectangular arrays) of values and have lots of useful mathematical properties. You can represent these with nested lists:\n",
    "\n",
    "    [[1, 2, 3, 4],\n",
    "     [4, 5, 6, 7],\n",
    "     [0, 0, 0, 1]]\n",
    "     \n",
    "This is a 3x4 matrix  (3 rows, 4 columns). Each row always has the same number of columns. \n",
    "### Task\n",
    "We need to be able to do some basic mathematical operations on these matrices. Your problem is to write these functions. *All functions should return new matrices and not change the ones they are passed.*\n",
    "* `pretty_print(m)` should print out each element of m as a neat matrix. E.g. it should print [[1,2,3], [4,5,6]] as:\n",
    "        1  2  3\n",
    "        4  5  6\n",
    "\n",
    "Note for this that you can use a special formatting syntax to make the numbers line up:\n",
    "\n",
    "   print \"% 5d\" % n\n",
    "   \n",
    "will print an integer number with enough leading spaces to make it 5 characters long. \"% 5d\" means \"substitute [space character fill]  [to 5 characters]  \\<integer\\>\"\n",
    "\n",
    "* `add_scalar(m, a)` should add the number `a` to each element of matrix `m`\n",
    "* `mul_scalar(m, a)` should multiply each element of matrix `m` by the number `a`.\n",
    "* `add_matrix(m1, m2)` should add two matrices together. The matrices **must be the same size** for this to work.\n",
    "* `fill(rows, cols, n)` should create a new matrix with size `rows x cols` and fill each element with the number `n`.\n",
    "* `hstack(m1, m2)` should join matrices m1 and m2, so that m2 is to the *right* of m2. m1 and m2 must have the same number of *rows*. For example:    \n",
    "\n",
    "         [[1 2]     [[0 8 9]\n",
    "         [3 4]]      [9 1 4]]\n",
    "\n",
    "will become:\n",
    "\n",
    "         [[1 2 0 8 9]\n",
    "         [3 4 9 1 4]]\n",
    "         \n",
    "<font color=\"red\"> Note that I've omitted the commas for clarity here, you still need to put them in the code! </font>         \n",
    "\n",
    "* `vstack(m1, m2)` should join matrices m1 and m2, so that m2 is to the *bottom* of m2. m1 and m2 must have the same number of *columns*.\n",
    "\n",
    "* `transpose(m1)` (*trickier*). **Transposing** a matrix means exchanging the rows and columns. For example:\n",
    "  \n",
    "      [[1 2 3]\n",
    "       [4 5 6]\n",
    "       [7 8 9]]\n",
    "    \n",
    "will become:\n",
    "\n",
    "      [[1 4 7]\n",
    "       [2 5 8]\n",
    "       [3 6 9]]\n",
    "\n",
    "* `mul_matrix(m1, m2)` (*trickier*) should add multiply two matrices together using **matrix multiplication**. The matrix multiplication rule is given [here](https://www.mathsisfun.com/algebra/matrix-multiplying.html) if you don't know it.\n",
    "\n",
    "\n",
    "#### Caveats\n",
    "Nested lists aren't a very efficient way to represent or use lists; real matrix use will normally use specialised data structures to do operations extremely quickly."
   ]
  },
  {
   "cell_type": "code",
   "execution_count": 268,
   "metadata": {
    "collapsed": false
   },
   "outputs": [],
   "source": [
    "# Solution goes here"
   ]
  },
  {
   "cell_type": "code",
   "execution_count": 308,
   "metadata": {
    "collapsed": false
   },
   "outputs": [],
   "source": [
    "## Tests\n",
    "## All of the following should work correctly\n",
    "a = [[1,2,3], [4,5,6], [7,8,9]]\n",
    "pretty_print(a)\n",
    "pretty_print(add_scalar(a,1))\n",
    "pretty_print(mul_scalar(a,2))\n",
    "pretty_print(fill(3,4,0))\n",
    "pretty_print(hstack(a, fill(3,4,0)))\n",
    "pretty_print(vstack(a, fill(4,3,0)))\n",
    "pretty_print(transpose(a))\n",
    "b = [[0,0,0,0],[1,1,1,0],[2,2,2,0]]\n",
    "pretty_print(b)\n",
    "pretty_print(transpose(b))\n",
    "pretty_print(mul_matrix(a,b))\n",
    "pretty_print(mul_matrix(a,[[1,0,1]]))"
   ]
  }
 ],
 "metadata": {
  "anaconda-cloud": {},
  "kernelspec": {
   "display_name": "Python 2",
   "language": "python",
   "name": "python2"
  },
  "language_info": {
   "codemirror_mode": {
    "name": "ipython",
    "version": 2
   },
   "file_extension": ".py",
   "mimetype": "text/x-python",
   "name": "python",
   "nbconvert_exporter": "python",
   "pygments_lexer": "ipython2",
   "version": "2.7.10"
  }
 },
 "nbformat": 4,
 "nbformat_minor": 0
}
